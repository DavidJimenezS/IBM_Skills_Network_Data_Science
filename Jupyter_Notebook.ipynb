{
 "cells": [
  {
   "cell_type": "markdown",
   "metadata": {},
   "source": [
    "<center>\n",
    "    <img src=\"https://cf-courses-data.s3.us.cloud-object-storage.appdomain.cloud/IBMDeveloperSkillsNetwork-DS0105EN-SkillsNetwork/labs/Module2/images/SN_web_lightmode.png\" width=\"300\" alt=\"cognitiveclass.ai logo\"  />\n",
    "</center>\n"
   ]
  },
  {
   "cell_type": "markdown",
   "metadata": {},
   "source": [
    "# My Jupyter Notebook on Skills Network Labs"
   ]
  },
  {
   "cell_type": "markdown",
   "metadata": {},
   "source": [
    "**David Alejandro Jimenez Sierra**\\\n",
    "Ph.D. Student in Engineering and Applied Science\\\n",
    "at Pontificia Universidad Javeriana Cali, Colombia"
   ]
  },
  {
   "cell_type": "markdown",
   "metadata": {},
   "source": [
    "*I'm interested in Data Science because I do really love to\\\n",
    "research to find whats underneath or behind the data and propose solutions.\\\n",
    "Also, I'm very creative and do really love challenges\\\n",
    "(that's why I've enrolled myself in a Ph.D.) and programming.*"
   ]
  },
  {
   "cell_type": "markdown",
   "metadata": {},
   "source": [
    "### The following code is a basis sum of two numbers"
   ]
  },
  {
   "cell_type": "code",
   "execution_count": 22,
   "metadata": {},
   "outputs": [
    {
     "name": "stdout",
     "output_type": "stream",
     "text": [
      "The sum of 1 and 5 is: 6\n"
     ]
    }
   ],
   "source": [
    "print(\"The sum of\", 1, \"and\", 5, \"is:\", 6)"
   ]
  },
  {
   "cell_type": "markdown",
   "metadata": {},
   "source": [
    "If you're interested in my work have a look to my [github](https://github.com/DavidJimenezS)\\\n",
    "You will find the following:\n",
    "1. Graph Theory Methods for Change detection.\n",
    "2. The use of graph signal processing to fuse data.\n",
    "3. Datasets with the ground truth to validate the approach.\n",
    "\n",
    "    * Homogeneous MS / SAR cases and Heterogeneous cases.\n",
    "\n"
   ]
  }
 ],
 "metadata": {
  "kernelspec": {
   "display_name": "Python",
   "language": "python",
   "name": "conda-env-python-py"
  },
  "language_info": {
   "codemirror_mode": {
    "name": "ipython",
    "version": 3
   },
   "file_extension": ".py",
   "mimetype": "text/x-python",
   "name": "python",
   "nbconvert_exporter": "python",
   "pygments_lexer": "ipython3",
   "version": "3.7.12"
  }
 },
 "nbformat": 4,
 "nbformat_minor": 4
}
